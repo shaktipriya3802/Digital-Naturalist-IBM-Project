{
 "cells": [
  {
   "cell_type": "code",
   "execution_count": 1,
   "id": "614ed557",
   "metadata": {},
   "outputs": [],
   "source": [
    "import Augmentor # a way to perform Augmentation"
   ]
  },
  {
   "cell_type": "code",
   "execution_count": 2,
   "id": "4f8347f0",
   "metadata": {},
   "outputs": [
    {
     "name": "stdout",
     "output_type": "stream",
     "text": [
      "Initialised with 24 image(s) found.\n",
      "Output directory set to C:\\Users\\shakt\\OneDrive\\Documents\\augmented_data\\Flower\\LS_Orchid_AUG\\output."
     ]
    }
   ],
   "source": [
    "p=Augmentor.Pipeline(r\"C:\\Users\\shakt\\OneDrive\\Documents\\augmented_data\\Flower\\LS_Orchid_AUG\")\n",
    "#python object where the image directory is\n",
    "#this above code extracts all the files in the given directory and performs the data augmentation that we want to perform as given in the below code"
   ]
  },
  {
   "cell_type": "code",
   "execution_count": 3,
   "id": "00b3a464",
   "metadata": {},
   "outputs": [],
   "source": [
    "p.zoom(probability=0.3, min_factor=0.8, max_factor=1.5)\n",
    "# zooming the images using the probability \n",
    "#if the probability is HIGH i.e 1 it performs ZOOMING operation for every image\n",
    "#if probability is low then less importance will be given this data augmentation parameter\n",
    "#min_factor and min_factor is all about how much you want to ZOOM IN and ZOOM OUT"
   ]
  },
  {
   "cell_type": "code",
   "execution_count": 4,
   "id": "f28be007",
   "metadata": {},
   "outputs": [],
   "source": [
    "p.flip_top_bottom(probability=0.4) \n",
    "#to flip the image from top to bottomi.e inversing the image"
   ]
  },
  {
   "cell_type": "code",
   "execution_count": 5,
   "id": "a8546fd0",
   "metadata": {},
   "outputs": [],
   "source": [
    "p.flip_left_right(probability=0.4)"
   ]
  },
  {
   "cell_type": "code",
   "execution_count": 6,
   "id": "d73bb4d9",
   "metadata": {},
   "outputs": [],
   "source": [
    "p.random_brightness(probability=0.3, min_factor=0.8, max_factor=1.2) \n",
    "#Changing the image brightness"
   ]
  },
  {
   "cell_type": "code",
   "execution_count": 7,
   "id": "53ebf710",
   "metadata": {},
   "outputs": [],
   "source": [
    "p.random_distortion(probability=1, grid_width=4, grid_height=4, magnitude=8) \n",
    "#change and alter the image shape and these factors specify how much you want to distort the images"
   ]
  },
  {
   "cell_type": "code",
   "execution_count": 8,
   "id": "dd2a818c",
   "metadata": {},
   "outputs": [
    {
     "name": "stderr",
     "output_type": "stream",
     "text": [
      "Processing <PIL.Image.Image image mode=RGB size=190x266 at 0x2181BC803A0>: 100%|█| 200/200 [00:00<00:00, 280.78 Samples\n"
     ]
    }
   ],
   "source": [
    "p.sample(200) #indicates how many images you want to create"
   ]
  },
  {
   "cell_type": "code",
   "execution_count": null,
   "id": "39e259e1",
   "metadata": {},
   "outputs": [],
   "source": []
  }
 ],
 "metadata": {
  "kernelspec": {
   "display_name": "Python 3 (ipykernel)",
   "language": "python",
   "name": "python3"
  },
  "language_info": {
   "codemirror_mode": {
    "name": "ipython",
    "version": 3
   },
   "file_extension": ".py",
   "mimetype": "text/x-python",
   "name": "python",
   "nbconvert_exporter": "python",
   "pygments_lexer": "ipython3",
   "version": "3.9.13"
  }
 },
 "nbformat": 4,
 "nbformat_minor": 5
}
