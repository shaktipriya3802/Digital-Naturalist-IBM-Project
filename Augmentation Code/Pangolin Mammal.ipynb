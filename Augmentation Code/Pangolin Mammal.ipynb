{
 "cells": [
  {
   "cell_type": "code",
   "execution_count": 9,
   "id": "32127f86",
   "metadata": {},
   "outputs": [],
   "source": [
    "import Augmentor # a way to perform Augmentation"
   ]
  },
  {
   "cell_type": "code",
   "execution_count": 10,
   "id": "c39e56aa",
   "metadata": {},
   "outputs": [
    {
     "name": "stdout",
     "output_type": "stream",
     "text": [
      "Initialised with 25 image(s) found.\n",
      "Output directory set to C:\\Users\\shakt\\OneDrive\\Documents\\augmented_data\\Mammal\\Pangolin_AUG\\output."
     ]
    }
   ],
   "source": [
    "p=Augmentor.Pipeline(r\"C:\\Users\\shakt\\OneDrive\\Documents\\augmented_data\\Mammal\\Pangolin_AUG\")\n",
    "#python object where the image directory is\n",
    "#this above code extracts all the files in the given directory and performs the data augmentation that we want to perform as given in the below code"
   ]
  },
  {
   "cell_type": "code",
   "execution_count": 11,
   "id": "3c5d9b6f",
   "metadata": {},
   "outputs": [],
   "source": [
    "p.zoom(probability=0.3, min_factor=0.8, max_factor=1.5)\n",
    "# zooming the images using the probability \n",
    "#if the probability is HIGH i.e 1 it performs ZOOMING operation for every image\n",
    "#if probability is low then less importance will be given this data augmentation parameter\n",
    "#min_factor and min_factor is all about how much you want to ZOOM IN and ZOOM OUT"
   ]
  },
  {
   "cell_type": "code",
   "execution_count": 12,
   "id": "6d29a2ba",
   "metadata": {},
   "outputs": [],
   "source": [
    "p.flip_top_bottom(probability=0.4) \n",
    "#to flip the image from top to bottomi.e inversing the image"
   ]
  },
  {
   "cell_type": "code",
   "execution_count": 13,
   "id": "41997547",
   "metadata": {},
   "outputs": [],
   "source": [
    "p.flip_left_right(probability=0.4)"
   ]
  },
  {
   "cell_type": "code",
   "execution_count": 14,
   "id": "40cad324",
   "metadata": {},
   "outputs": [],
   "source": [
    "p.random_brightness(probability=0.3, min_factor=0.8, max_factor=1.2) \n",
    "#Changing the image brightness"
   ]
  },
  {
   "cell_type": "code",
   "execution_count": 15,
   "id": "8471f454",
   "metadata": {},
   "outputs": [],
   "source": [
    "p.random_distortion(probability=1, grid_width=4, grid_height=4, magnitude=8) \n",
    "#change and alter the image shape and these factors specify how much you want to distort the images"
   ]
  },
  {
   "cell_type": "code",
   "execution_count": 16,
   "id": "4464b5d4",
   "metadata": {},
   "outputs": [
    {
     "name": "stderr",
     "output_type": "stream",
     "text": [
      "Processing <PIL.Image.Image image mode=RGB size=277x182 at 0x15F60F6ACD0>: 100%|█| 200/200 [00:00<00:00, 317.68 Samples\n"
     ]
    }
   ],
   "source": [
    "p.sample(200) #indicates how many images you want to create"
   ]
  },
  {
   "cell_type": "code",
   "execution_count": null,
   "id": "8b27bfb1",
   "metadata": {},
   "outputs": [],
   "source": []
  }
 ],
 "metadata": {
  "kernelspec": {
   "display_name": "Python 3 (ipykernel)",
   "language": "python",
   "name": "python3"
  },
  "language_info": {
   "codemirror_mode": {
    "name": "ipython",
    "version": 3
   },
   "file_extension": ".py",
   "mimetype": "text/x-python",
   "name": "python",
   "nbconvert_exporter": "python",
   "pygments_lexer": "ipython3",
   "version": "3.9.13"
  }
 },
 "nbformat": 4,
 "nbformat_minor": 5
}
