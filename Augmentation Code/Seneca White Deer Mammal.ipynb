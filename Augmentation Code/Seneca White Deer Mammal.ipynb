{
 "cells": [
  {
   "cell_type": "code",
   "execution_count": 1,
   "id": "e50cdfb4",
   "metadata": {
    "scrolled": true
   },
   "outputs": [
    {
     "name": "stdout",
     "output_type": "stream",
     "text": [
      "Defaulting to user installation because normal site-packages is not writeable\n",
      "Requirement already satisfied: Augmentor in c:\\users\\shakt\\appdata\\roaming\\python\\python39\\site-packages (0.2.10)\n",
      "Requirement already satisfied: Pillow>=5.2.0 in c:\\programdata\\anaconda3\\lib\\site-packages (from Augmentor) (9.0.1)\n",
      "Requirement already satisfied: future>=0.16.0 in c:\\programdata\\anaconda3\\lib\\site-packages (from Augmentor) (0.18.2)\n",
      "Requirement already satisfied: tqdm>=4.9.0 in c:\\programdata\\anaconda3\\lib\\site-packages (from Augmentor) (4.64.0)\n",
      "Requirement already satisfied: numpy>=1.11.0 in c:\\programdata\\anaconda3\\lib\\site-packages (from Augmentor) (1.21.5)\n",
      "Requirement already satisfied: colorama in c:\\programdata\\anaconda3\\lib\\site-packages (from tqdm>=4.9.0->Augmentor) (0.4.4)\n"
     ]
    }
   ],
   "source": [
    "!pip install Augmentor"
   ]
  },
  {
   "cell_type": "code",
   "execution_count": 2,
   "id": "27663f5f",
   "metadata": {},
   "outputs": [],
   "source": [
    "import Augmentor "
   ]
  },
  {
   "cell_type": "code",
   "execution_count": 3,
   "id": "c6eb620f",
   "metadata": {},
   "outputs": [
    {
     "name": "stdout",
     "output_type": "stream",
     "text": [
      "Initialised with 22 image(s) found.\n",
      "Output directory set to C:\\Users\\shakt\\OneDrive\\Documents\\augmented_data\\Mammal\\SW_Deer_AUG\\output."
     ]
    }
   ],
   "source": [
    "p=Augmentor.Pipeline(r\"C:\\Users\\shakt\\OneDrive\\Documents\\augmented_data\\Mammal\\SW_Deer_AUG\")\n",
    "#python object where the image directory is\n",
    "#this above code extracts all the files in the given directory and performs the data augmentation that we want to perform as given in the below code"
   ]
  },
  {
   "cell_type": "code",
   "execution_count": 4,
   "id": "44581929",
   "metadata": {},
   "outputs": [],
   "source": [
    "p.zoom(probability=0.3, min_factor=0.8, max_factor=1.5)"
   ]
  },
  {
   "cell_type": "code",
   "execution_count": 5,
   "id": "f1dfb377",
   "metadata": {},
   "outputs": [],
   "source": [
    "p.flip_top_bottom(probability=0.4) \n",
    "#to flip the image from top to bottomi.e inversing the image"
   ]
  },
  {
   "cell_type": "code",
   "execution_count": 6,
   "id": "e4879676",
   "metadata": {},
   "outputs": [],
   "source": [
    "p.flip_left_right(probability=0.4)"
   ]
  },
  {
   "cell_type": "code",
   "execution_count": 7,
   "id": "4ab4e534",
   "metadata": {},
   "outputs": [],
   "source": [
    "p.random_brightness(probability=0.3, min_factor=0.8, max_factor=1.2) \n",
    "#Changing the image brightness"
   ]
  },
  {
   "cell_type": "code",
   "execution_count": 8,
   "id": "9521c67e",
   "metadata": {},
   "outputs": [],
   "source": [
    "p.random_distortion(probability=1, grid_width=4, grid_height=4, magnitude=8) \n",
    "#change and alter the image shape and these factors specify how much you want to distort the images"
   ]
  },
  {
   "cell_type": "code",
   "execution_count": 9,
   "id": "9078cf2f",
   "metadata": {},
   "outputs": [
    {
     "name": "stderr",
     "output_type": "stream",
     "text": [
      "Processing <PIL.Image.Image image mode=RGB size=244x207 at 0x288C12A2880>: 100%|█| 200/200 [00:00<00:00, 355.76 Samples\n"
     ]
    }
   ],
   "source": [
    "p.sample(200) #indicates how many images you want to create"
   ]
  },
  {
   "cell_type": "code",
   "execution_count": null,
   "id": "b9856f99",
   "metadata": {},
   "outputs": [],
   "source": []
  }
 ],
 "metadata": {
  "kernelspec": {
   "display_name": "Python 3 (ipykernel)",
   "language": "python",
   "name": "python3"
  },
  "language_info": {
   "codemirror_mode": {
    "name": "ipython",
    "version": 3
   },
   "file_extension": ".py",
   "mimetype": "text/x-python",
   "name": "python",
   "nbconvert_exporter": "python",
   "pygments_lexer": "ipython3",
   "version": "3.9.13"
  }
 },
 "nbformat": 4,
 "nbformat_minor": 5
}
